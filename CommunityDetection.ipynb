{
 "cells": [
  {
   "cell_type": "code",
   "execution_count": 1,
   "metadata": {},
   "outputs": [],
   "source": [
    "import requests\n",
    "import pandas  as pd\n",
    "import networkx as nx"
   ]
  },
  {
   "cell_type": "code",
   "execution_count": null,
   "metadata": {},
   "outputs": [],
   "source": [
    "file1=\"https://people.rit.edu/nxmsma/courses/webpage-math789/data/simMat1.csv\"\n",
    "file2=\"https://people.rit.edu/nxmsma/courses/webpage-math789/data/simlabels.txt\"\n",
    "simMat=requests.get(file1)\n",
    "with open(\"./data/simMat.csv\", \"wb\") as f:\n",
    "    f.write(simMat.content)\n",
    "simLab=requests.get(file2)\n",
    "with open(\"./data/simLable.txt\",\"wb\") as text_file:\n",
    "    text_file.write(simLab.content)\n"
   ]
  }
 ],
 "metadata": {
  "kernelspec": {
   "display_name": "Python 3",
   "language": "python",
   "name": "python3"
  },
  "language_info": {
   "codemirror_mode": {
    "name": "ipython",
    "version": 3
   },
   "file_extension": ".py",
   "mimetype": "text/x-python",
   "name": "python",
   "nbconvert_exporter": "python",
   "pygments_lexer": "ipython3",
   "version": "3.10.4"
  }
 },
 "nbformat": 4,
 "nbformat_minor": 2
}
