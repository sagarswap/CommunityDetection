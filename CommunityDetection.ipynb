{
 "cells": [
  {
   "cell_type": "code",
   "execution_count": 9,
   "metadata": {},
   "outputs": [],
   "source": [
    "import requests\n",
    "import pandas  as pd\n",
    "import networkx as nx\n",
    "import csv"
   ]
  },
  {
   "cell_type": "markdown",
   "metadata": {},
   "source": [
    "Downloading Required Data"
   ]
  },
  {
   "cell_type": "code",
   "execution_count": 5,
   "metadata": {},
   "outputs": [
    {
     "ename": "PermissionError",
     "evalue": "[Errno 13] Permission denied: './data/simMat.csv'",
     "output_type": "error",
     "traceback": [
      "\u001b[1;31m---------------------------------------------------------------------------\u001b[0m",
      "\u001b[1;31mPermissionError\u001b[0m                           Traceback (most recent call last)",
      "\u001b[1;32mc:\\Programming\\RIT\\Complex Networks\\Take Home Exams\\Practise\\CommunityDetection.ipynb Cell 3\u001b[0m line \u001b[0;36m4\n\u001b[0;32m      <a href='vscode-notebook-cell:/c%3A/Programming/RIT/Complex%20Networks/Take%20Home%20Exams/Practise/CommunityDetection.ipynb#W1sZmlsZQ%3D%3D?line=1'>2</a>\u001b[0m file2\u001b[39m=\u001b[39m\u001b[39m\"\u001b[39m\u001b[39mhttps://people.rit.edu/nxmsma/courses/webpage-math789/data/simlabels.txt\u001b[39m\u001b[39m\"\u001b[39m\n\u001b[0;32m      <a href='vscode-notebook-cell:/c%3A/Programming/RIT/Complex%20Networks/Take%20Home%20Exams/Practise/CommunityDetection.ipynb#W1sZmlsZQ%3D%3D?line=2'>3</a>\u001b[0m simMat\u001b[39m=\u001b[39mrequests\u001b[39m.\u001b[39mget(file1)\n\u001b[1;32m----> <a href='vscode-notebook-cell:/c%3A/Programming/RIT/Complex%20Networks/Take%20Home%20Exams/Practise/CommunityDetection.ipynb#W1sZmlsZQ%3D%3D?line=3'>4</a>\u001b[0m \u001b[39mwith\u001b[39;00m \u001b[39mopen\u001b[39;49m(\u001b[39m\"\u001b[39;49m\u001b[39m./data/simMat.csv\u001b[39;49m\u001b[39m\"\u001b[39;49m, \u001b[39m\"\u001b[39;49m\u001b[39mwb\u001b[39;49m\u001b[39m\"\u001b[39;49m) \u001b[39mas\u001b[39;00m f:\n\u001b[0;32m      <a href='vscode-notebook-cell:/c%3A/Programming/RIT/Complex%20Networks/Take%20Home%20Exams/Practise/CommunityDetection.ipynb#W1sZmlsZQ%3D%3D?line=4'>5</a>\u001b[0m     f\u001b[39m.\u001b[39mwrite(simMat\u001b[39m.\u001b[39mcontent)\n\u001b[0;32m      <a href='vscode-notebook-cell:/c%3A/Programming/RIT/Complex%20Networks/Take%20Home%20Exams/Practise/CommunityDetection.ipynb#W1sZmlsZQ%3D%3D?line=5'>6</a>\u001b[0m simLab\u001b[39m=\u001b[39mrequests\u001b[39m.\u001b[39mget(file2)\n",
      "File \u001b[1;32mc:\\Programming\\Python\\Install Files\\lib\\site-packages\\IPython\\core\\interactiveshell.py:282\u001b[0m, in \u001b[0;36m_modified_open\u001b[1;34m(file, *args, **kwargs)\u001b[0m\n\u001b[0;32m    275\u001b[0m \u001b[39mif\u001b[39;00m file \u001b[39min\u001b[39;00m {\u001b[39m0\u001b[39m, \u001b[39m1\u001b[39m, \u001b[39m2\u001b[39m}:\n\u001b[0;32m    276\u001b[0m     \u001b[39mraise\u001b[39;00m \u001b[39mValueError\u001b[39;00m(\n\u001b[0;32m    277\u001b[0m         \u001b[39mf\u001b[39m\u001b[39m\"\u001b[39m\u001b[39mIPython won\u001b[39m\u001b[39m'\u001b[39m\u001b[39mt let you open fd=\u001b[39m\u001b[39m{\u001b[39;00mfile\u001b[39m}\u001b[39;00m\u001b[39m by default \u001b[39m\u001b[39m\"\u001b[39m\n\u001b[0;32m    278\u001b[0m         \u001b[39m\"\u001b[39m\u001b[39mas it is likely to crash IPython. If you know what you are doing, \u001b[39m\u001b[39m\"\u001b[39m\n\u001b[0;32m    279\u001b[0m         \u001b[39m\"\u001b[39m\u001b[39myou can use builtins\u001b[39m\u001b[39m'\u001b[39m\u001b[39m open.\u001b[39m\u001b[39m\"\u001b[39m\n\u001b[0;32m    280\u001b[0m     )\n\u001b[1;32m--> 282\u001b[0m \u001b[39mreturn\u001b[39;00m io_open(file, \u001b[39m*\u001b[39margs, \u001b[39m*\u001b[39m\u001b[39m*\u001b[39mkwargs)\n",
      "\u001b[1;31mPermissionError\u001b[0m: [Errno 13] Permission denied: './data/simMat.csv'"
     ]
    }
   ],
   "source": [
    "file1=\"https://people.rit.edu/nxmsma/courses/webpage-math789/data/simMat1.csv\"\n",
    "file2=\"https://people.rit.edu/nxmsma/courses/webpage-math789/data/simlabels.txt\"\n",
    "simMat=requests.get(file1)\n",
    "with open(\"./data/simMat.csv\", \"wb\") as f:\n",
    "    f.write(simMat.content)\n",
    "simLab=requests.get(file2)\n",
    "with open(\"./data/simLable.txt\",\"wb\") as text_file:\n",
    "    text_file.write(simLab.content)\n"
   ]
  },
  {
   "cell_type": "markdown",
   "metadata": {},
   "source": [
    "Creating network"
   ]
  },
  {
   "cell_type": "code",
   "execution_count": 63,
   "metadata": {},
   "outputs": [
    {
     "name": "stdout",
     "output_type": "stream",
     "text": [
      "[[100.0, 65.04, 67.59, 65.11, 68.93, 82.45, 69.54, 22.24, 42.36, 42.34, 41.15, 20.09, 39.76, 82.54, 99.26], [65.04, 100.0, 67.06, 75.3, 65.02, 65.08, 64.85, 24.6, 44.99, 44.96, 43.85, 22.22, 42.39, 66.94, 64.79], [67.59, 67.06, 100.0, 68.09, 75.58, 67.05, 67.29, 23.24, 42.76, 42.77, 41.37, 21.05, 40.16, 65.61, 67.3], [65.11, 75.3, 68.09, 100.0, 65.4, 64.84, 64.97, 24.58, 44.5, 44.53, 43.26, 22.26, 42.53, 67.09, 64.84], [68.93, 65.02, 75.58, 65.4, 100.0, 68.22, 68.94, 22.15, 41.91, 41.9, 40.58, 20.0, 38.53, 63.96, 68.96], [82.45, 65.08, 67.05, 64.84, 68.22, 100.0, 69.01, 22.42, 42.68, 42.64, 41.67, 20.25, 40.08, 77.07, 82.14], [69.54, 64.85, 67.29, 64.97, 68.94, 69.01, 100.0, 22.25, 42.29, 42.26, 41.36, 20.09, 38.66, 64.57, 69.23], [22.24, 24.6, 23.24, 24.58, 22.15, 22.42, 22.25, 100.0, 40.77, 40.87, 42.36, 59.15, 44.38, 25.59, 22.08], [42.36, 44.99, 42.76, 44.5, 41.91, 42.68, 42.29, 40.77, 100.0, 93.24, 63.97, 38.5, 56.88, 46.45, 42.13], [42.34, 44.96, 42.77, 44.53, 41.9, 42.64, 42.26, 40.87, 93.24, 100.0, 63.88, 38.54, 56.88, 46.45, 42.11], [41.15, 43.85, 41.37, 43.26, 40.58, 41.67, 41.36, 42.36, 63.97, 63.88, 100.0, 39.28, 57.99, 45.26, 40.94], [20.09, 22.22, 21.05, 22.26, 20.0, 20.25, 20.09, 59.15, 38.5, 38.54, 39.28, 100.0, 41.04, 23.13, 19.94], [39.76, 42.39, 40.16, 42.53, 38.53, 40.08, 38.66, 44.38, 56.88, 56.88, 57.99, 41.04, 100.0, 44.83, 39.52], [82.54, 66.94, 65.61, 67.09, 63.96, 77.07, 64.57, 25.59, 46.45, 46.45, 45.26, 23.13, 44.83, 100.0, 82.23], [99.26, 64.79, 67.3, 64.84, 68.96, 82.14, 69.23, 22.08, 42.13, 42.11, 40.94, 19.94, 39.52, 82.23, 100.0]]\n",
      "{0: 'COVID-19', 1: 'HCoV-229E', 2: 'HCoV-HKU1', 3: 'HCoV-NL63', 4: 'HCoV-OC43', 5: 'SARS', 6: 'MERS', 7: 'Lassa', 8: 'Victoria', 9: ' Yamagata', 10: ' Ebola', 11: ' Dengue ', 12: ' Rhinolophines', 13: ' PangolinHost', 14: ' Environment'}\n"
     ]
    }
   ],
   "source": [
    "with open('./data/simMat.csv', 'r') as f:\n",
    "    reader=f.readlines()\n",
    "    \n",
    "data=[]\n",
    "for row in reader:\n",
    "    row=row[:-1]\n",
    "    r=row.split(',')\n",
    "    datum=[float(n) for n in r]\n",
    "    data.append(datum)\n",
    "\n",
    "print(data)\n",
    "\n",
    "with open('./data/simLable.txt', 'r') as f:\n",
    "    labels=f.readlines()\n",
    "id=[int(i[0:2].strip())-1 for i in labels]\n",
    "labels=[l[2:-1] for l in labels]\n",
    "labelDict={}\n",
    "for i in range(0, 15):\n",
    "    labelDict[id[i]]=labels[i]\n",
    "\n",
    "print(labelDict)"
   ]
  },
  {
   "cell_type": "code",
   "execution_count": 43,
   "metadata": {},
   "outputs": [
    {
     "name": "stdout",
     "output_type": "stream",
     "text": [
      "43\n"
     ]
    }
   ],
   "source": [
    "threshold=50\n",
    "\n",
    "G=nx.Graph()\n",
    "G.add_nodes_from(range(15))\n",
    "for i in range(0, 15):\n",
    "    for j in range(0, i+1):\n",
    "        if i==j:\n",
    "            continue\n",
    "        if(data[i][j]>=threshold):\n",
    "            G.add_edge(i,j)\n",
    "print(len(G.edges()))\n"
   ]
  }
 ],
 "metadata": {
  "kernelspec": {
   "display_name": "Python 3",
   "language": "python",
   "name": "python3"
  },
  "language_info": {
   "codemirror_mode": {
    "name": "ipython",
    "version": 3
   },
   "file_extension": ".py",
   "mimetype": "text/x-python",
   "name": "python",
   "nbconvert_exporter": "python",
   "pygments_lexer": "ipython3",
   "version": "3.10.4"
  }
 },
 "nbformat": 4,
 "nbformat_minor": 2
}
